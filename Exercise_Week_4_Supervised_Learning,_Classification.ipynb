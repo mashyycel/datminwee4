{
  "cells": [
    {
      "cell_type": "markdown",
      "metadata": {
        "id": "59lmf9GN_pz9"
      },
      "source": [
        "#Week 4: Supervised Learning - Classification - Iris\n",
        "-------------------------------------\n",
        "Lab exercise kali ini menggunakan dataset iris:\n",
        "https://raw.githubusercontent.com/catharinamega/Data-Mining-ISB-2020/main/Week%204/iris.csv\n",
        "\n",
        "Lakukan klasifikasi pada dataset tersebut dengan menggunakan 3 cara: Logistic Regression, Naive Bayes, dan K-Nearest Neighbor (dengan k=5)"
      ]
    },
    {
      "cell_type": "markdown",
      "metadata": {
        "id": "D-_Rri1ABBzs"
      },
      "source": [
        "## Import library"
      ]
    },
    {
      "cell_type": "code",
      "execution_count": 121,
      "metadata": {
        "id": "o7qqljwHAty2"
      },
      "outputs": [],
      "source": [
        "import numpy as np\n",
        "import matplotlib.pyplot as plt\n",
        "import pandas as pd\n",
        "import seaborn as sns\n",
        "from sklearn.model_selection import train_test_split\n",
        "from sklearn import metrics\n",
        "from sklearn.naive_bayes import GaussianNB\n",
        "from sklearn.neighbors import KNeighborsClassifier\n",
        "from sklearn.linear_model import LogisticRegression"
      ]
    },
    {
      "cell_type": "markdown",
      "metadata": {
        "id": "SCknVHJuBFWF"
      },
      "source": [
        "## Load Dataset"
      ]
    },
    {
      "cell_type": "code",
      "execution_count": 122,
      "metadata": {
        "colab": {
          "base_uri": "https://localhost:8080/",
          "height": 206
        },
        "id": "r9FYMEXZAy0a",
        "outputId": "005ba917-33cf-4a67-9808-0679ba293fca"
      },
      "outputs": [
        {
          "data": {
            "text/html": [
              "<div>\n",
              "<style scoped>\n",
              "    .dataframe tbody tr th:only-of-type {\n",
              "        vertical-align: middle;\n",
              "    }\n",
              "\n",
              "    .dataframe tbody tr th {\n",
              "        vertical-align: top;\n",
              "    }\n",
              "\n",
              "    .dataframe thead th {\n",
              "        text-align: right;\n",
              "    }\n",
              "</style>\n",
              "<table border=\"1\" class=\"dataframe\">\n",
              "  <thead>\n",
              "    <tr style=\"text-align: right;\">\n",
              "      <th></th>\n",
              "      <th>sepal_length</th>\n",
              "      <th>sepal_width</th>\n",
              "      <th>petal_length</th>\n",
              "      <th>petal_width</th>\n",
              "      <th>species</th>\n",
              "    </tr>\n",
              "  </thead>\n",
              "  <tbody>\n",
              "    <tr>\n",
              "      <th>0</th>\n",
              "      <td>5.1</td>\n",
              "      <td>3.5</td>\n",
              "      <td>1.4</td>\n",
              "      <td>0.2</td>\n",
              "      <td>setosa</td>\n",
              "    </tr>\n",
              "    <tr>\n",
              "      <th>1</th>\n",
              "      <td>4.9</td>\n",
              "      <td>3.0</td>\n",
              "      <td>1.4</td>\n",
              "      <td>0.2</td>\n",
              "      <td>setosa</td>\n",
              "    </tr>\n",
              "    <tr>\n",
              "      <th>2</th>\n",
              "      <td>4.7</td>\n",
              "      <td>3.2</td>\n",
              "      <td>1.3</td>\n",
              "      <td>0.2</td>\n",
              "      <td>setosa</td>\n",
              "    </tr>\n",
              "    <tr>\n",
              "      <th>3</th>\n",
              "      <td>4.6</td>\n",
              "      <td>3.1</td>\n",
              "      <td>1.5</td>\n",
              "      <td>0.2</td>\n",
              "      <td>setosa</td>\n",
              "    </tr>\n",
              "    <tr>\n",
              "      <th>4</th>\n",
              "      <td>5.0</td>\n",
              "      <td>3.6</td>\n",
              "      <td>1.4</td>\n",
              "      <td>0.2</td>\n",
              "      <td>setosa</td>\n",
              "    </tr>\n",
              "  </tbody>\n",
              "</table>\n",
              "</div>"
            ],
            "text/plain": [
              "   sepal_length  sepal_width  petal_length  petal_width species\n",
              "0           5.1          3.5           1.4          0.2  setosa\n",
              "1           4.9          3.0           1.4          0.2  setosa\n",
              "2           4.7          3.2           1.3          0.2  setosa\n",
              "3           4.6          3.1           1.5          0.2  setosa\n",
              "4           5.0          3.6           1.4          0.2  setosa"
            ]
          },
          "execution_count": 122,
          "metadata": {},
          "output_type": "execute_result"
        }
      ],
      "source": [
        "# Read CSV\n",
        "flower = 'https://raw.githubusercontent.com/catharinamega/Data-Mining-ISB-2020/main/Week%204/iris.csv'\n",
        "data_flower = pd.read_csv(flower)\n",
        "data_flower.head()"
      ]
    },
    {
      "cell_type": "markdown",
      "metadata": {
        "id": "hv8_UYnnBTYx"
      },
      "source": [
        "## Data Preprocessing"
      ]
    },
    {
      "cell_type": "markdown",
      "metadata": {
        "id": "shWWY2QSGewj"
      },
      "source": [
        "Periksa apakah ada baris yang duplikat\n",
        "\n"
      ]
    },
    {
      "cell_type": "code",
      "execution_count": 123,
      "metadata": {},
      "outputs": [
        {
          "data": {
            "text/plain": [
              "False    147\n",
              "True       3\n",
              "dtype: int64"
            ]
          },
          "execution_count": 123,
          "metadata": {},
          "output_type": "execute_result"
        }
      ],
      "source": [
        "data_flower.duplicated().value_counts()"
      ]
    },
    {
      "cell_type": "markdown",
      "metadata": {
        "id": "vSvEybiKLomQ"
      },
      "source": [
        "Periksa apakah ada missing values"
      ]
    },
    {
      "cell_type": "code",
      "execution_count": 124,
      "metadata": {},
      "outputs": [
        {
          "data": {
            "text/plain": [
              "sepal_length    False\n",
              "sepal_width     False\n",
              "petal_length    False\n",
              "petal_width     False\n",
              "species         False\n",
              "dtype: bool"
            ]
          },
          "execution_count": 124,
          "metadata": {},
          "output_type": "execute_result"
        }
      ],
      "source": [
        "data_flower.isnull().any()"
      ]
    },
    {
      "cell_type": "markdown",
      "metadata": {
        "id": "6Q8ZWmLAID5m"
      },
      "source": [
        "Periksa outlier dengan boxplot untuk setiap kolom feature"
      ]
    },
    {
      "cell_type": "code",
      "execution_count": 125,
      "metadata": {},
      "outputs": [
        {
          "data": {
            "image/png": "[encoded data removed]",
            "text/plain": [
              "<Figure size 504x360 with 4 Axes>"
            ]
          },
          "metadata": {
            "needs_background": "light"
          },
          "output_type": "display_data"
        }
      ],
      "source": [
        "data_flower.boxplot(by='species', figsize=(7, 5))\n",
        "plt.show()"
      ]
    },
    {
      "cell_type": "code",
      "execution_count": 144,
      "metadata": {},
      "outputs": [
        {
          "data": {
            "text/plain": [
              "<AxesSubplot:>"
            ]
          },
          "execution_count": 144,
          "metadata": {},
          "output_type": "execute_result"
        },
        {
          "data": {
            "image/png": "[encoded data removed]",
            "text/plain": [
              "<Figure size 432x288 with 1 Axes>"
            ]
          },
          "metadata": {
            "needs_background": "light"
          },
          "output_type": "display_data"
        }
      ],
      "source": []
    },
    {
      "cell_type": "markdown",
      "metadata": {
        "id": "x1Jp_nX3DoIN"
      },
      "source": [
        "Pisahkan dataset menjadi variabel independen dan variabel dependen"
      ]
    },
    {
      "cell_type": "code",
      "execution_count": 126,
      "metadata": {
        "id": "1AAkxvSgB4ao"
      },
      "outputs": [],
      "source": [
        "X = data_flower[['sepal_length', 'sepal_width', 'petal_length', 'petal_width']]\n",
        "Y = data_flower['species']"
      ]
    },
    {
      "cell_type": "markdown",
      "metadata": {
        "id": "tM7meP78DvRO"
      },
      "source": [
        "Pisahkan dataset train dan test dataset, dengan ukuran dataset test 0.1"
      ]
    },
    {
      "cell_type": "code",
      "execution_count": 127,
      "metadata": {
        "id": "FFg5hkAMEyCo"
      },
      "outputs": [],
      "source": [
        "X_train, X_test, Y_train, Y_test = train_test_split(X, Y, test_size=0.1, random_state=0)"
      ]
    },
    {
      "cell_type": "markdown",
      "metadata": {
        "id": "i8kBslhcGv3A"
      },
      "source": [
        "Lakukan fitur scaling pada variabel X_train dan X_test. "
      ]
    },
    {
      "cell_type": "code",
      "execution_count": 128,
      "metadata": {
        "id": "AiCPrBd4JyDf"
      },
      "outputs": [],
      "source": [
        "from sklearn.preprocessing import StandardScaler\n",
        "scaler = StandardScaler()\n",
        "scaled_X_train = scaler.fit_transform(X_train)\n",
        "scaled_X_test = scaler.transform(X_test)"
      ]
    },
    {
      "cell_type": "markdown",
      "metadata": {
        "id": "M9Wnfyt7ApS7"
      },
      "source": [
        "#Logistic Regression"
      ]
    },
    {
      "cell_type": "markdown",
      "metadata": {
        "id": "mN-9NfADFAmn"
      },
      "source": [
        "Bangun model dan ukur accuracy nya"
      ]
    },
    {
      "cell_type": "code",
      "execution_count": 138,
      "metadata": {
        "colab": {
          "base_uri": "https://localhost:8080/"
        },
        "id": "7nNOFcp_FETB",
        "outputId": "d7ccedd7-3984-4042-db0a-91e8eda9dba1"
      },
      "outputs": [
        {
          "data": {
            "text/plain": [
              "LogisticRegression(random_state=0)"
            ]
          },
          "execution_count": 138,
          "metadata": {},
          "output_type": "execute_result"
        }
      ],
      "source": [
        "logreg = LogisticRegression(random_state=0)\n",
        "logreg "
      ]
    },
    {
      "cell_type": "markdown",
      "metadata": {
        "id": "zZyes8UOVhsy"
      },
      "source": [
        "Uji model dengan dataset test"
      ]
    },
    {
      "cell_type": "code",
      "execution_count": 130,
      "metadata": {
        "colab": {
          "base_uri": "https://localhost:8080/"
        },
        "id": "W1W8JtIXVlRF",
        "outputId": "725e39b6-f43e-4ac4-c006-f49aff2570ab"
      },
      "outputs": [
        {
          "data": {
            "text/plain": [
              "array(['virginica', 'versicolor', 'setosa', 'virginica', 'setosa',\n",
              "       'virginica', 'setosa', 'versicolor', 'versicolor', 'versicolor',\n",
              "       'virginica', 'versicolor', 'versicolor', 'versicolor',\n",
              "       'versicolor'], dtype=object)"
            ]
          },
          "execution_count": 130,
          "metadata": {},
          "output_type": "execute_result"
        }
      ],
      "source": [
        "y_pred = logreg.fit(scaled_X_train, Y_train).predict(scaled_X_test)\n",
        "y_pred"
      ]
    },
    {
      "cell_type": "code",
      "execution_count": 131,
      "metadata": {
        "colab": {
          "base_uri": "https://localhost:8080/"
        },
        "id": "62aDHBp_O_rp",
        "outputId": "6786194d-7d06-4842-e8b7-8793c0c95c23"
      },
      "outputs": [
        {
          "name": "stdout",
          "output_type": "stream",
          "text": [
            "[[3 0 0]\n",
            " [0 8 0]\n",
            " [0 0 4]]\n",
            "Accuracy score:  1.0\n"
          ]
        }
      ],
      "source": [
        "from sklearn.metrics import confusion_matrix, accuracy_score\n",
        "print(confusion_matrix(Y_test,y_pred))\n",
        "print(\"Accuracy score: \",(accuracy_score(Y_test,y_pred)))"
      ]
    },
    {
      "cell_type": "markdown",
      "metadata": {
        "id": "SS6eNQWKLdpn"
      },
      "source": [
        "# Naive Bayes\n",
        "\n",
        "Buat model persamaan berdasarkan data training yang sudah dibuat pada tahap preprocess"
      ]
    },
    {
      "cell_type": "code",
      "execution_count": 132,
      "metadata": {
        "colab": {
          "base_uri": "https://localhost:8080/"
        },
        "id": "tKgc72ocP3IB",
        "outputId": "8fe5dd58-3f84-4d0c-b04f-8f7fe444dda6"
      },
      "outputs": [
        {
          "data": {
            "text/plain": [
              "GaussianNB()"
            ]
          },
          "execution_count": 132,
          "metadata": {},
          "output_type": "execute_result"
        }
      ],
      "source": [
        "# naive bayes\n",
        "from sklearn.naive_bayes import GaussianNB\n",
        "nb = GaussianNB()\n",
        "nb"
      ]
    },
    {
      "cell_type": "markdown",
      "metadata": {
        "id": "4kjfj39PQch0"
      },
      "source": [
        "Uji hasil model dengan data test"
      ]
    },
    {
      "cell_type": "code",
      "execution_count": 133,
      "metadata": {
        "colab": {
          "base_uri": "https://localhost:8080/"
        },
        "id": "XlKc_hcrQiwS",
        "outputId": "c03d4b2a-6964-4cce-be56-268ca473ebeb"
      },
      "outputs": [
        {
          "data": {
            "text/plain": [
              "array(['virginica', 'versicolor', 'setosa', 'virginica', 'setosa',\n",
              "       'virginica', 'setosa', 'versicolor', 'versicolor', 'versicolor',\n",
              "       'virginica', 'versicolor', 'versicolor', 'versicolor',\n",
              "       'versicolor'], dtype=object)"
            ]
          },
          "execution_count": 133,
          "metadata": {},
          "output_type": "execute_result"
        }
      ],
      "source": [
        "nb.fit(scaled_X_train, Y_train).predict(scaled_X_test)\n",
        "y_pred"
      ]
    },
    {
      "cell_type": "markdown",
      "metadata": {
        "id": "BVSh48SQQsAy"
      },
      "source": [
        "Ukur akurasi dari model persamaan Naive Bayes Classifier"
      ]
    },
    {
      "cell_type": "code",
      "execution_count": 134,
      "metadata": {
        "colab": {
          "base_uri": "https://localhost:8080/"
        },
        "id": "wH6jeQxqQjYo",
        "outputId": "e648a302-804f-4aa9-ff70-dd8556cf8b4d"
      },
      "outputs": [
        {
          "name": "stdout",
          "output_type": "stream",
          "text": [
            "[[3 0 0]\n",
            " [0 8 0]\n",
            " [0 0 4]]\n",
            "Accuracy score:  1.0\n"
          ]
        }
      ],
      "source": [
        "print(confusion_matrix(Y_test,y_pred))\n",
        "print(\"Accuracy score: \",(accuracy_score(Y_test,y_pred)))"
      ]
    },
    {
      "cell_type": "markdown",
      "metadata": {
        "id": "WIB_g5-BRSsu"
      },
      "source": [
        "# K-Nearest Neighbour (K-NN) Classifier"
      ]
    },
    {
      "cell_type": "markdown",
      "metadata": {
        "id": "WwzQ0Xo5Rexr"
      },
      "source": [
        "Buatlah model KNN berdasarkan data training yang sudah dibuat di tahap preprocess, gunakan metric pengukuran jarak 'euclidean'"
      ]
    },
    {
      "cell_type": "code",
      "execution_count": 139,
      "metadata": {
        "colab": {
          "base_uri": "https://localhost:8080/"
        },
        "id": "_ESV58YzRQe4",
        "outputId": "25530154-99e7-4552-b849-0a2d473f18c5"
      },
      "outputs": [
        {
          "data": {
            "text/plain": [
              "KNeighborsClassifier(metric='euclidean')"
            ]
          },
          "execution_count": 139,
          "metadata": {},
          "output_type": "execute_result"
        }
      ],
      "source": [
        "knn = KNeighborsClassifier(n_neighbors=5, metric='euclidean')\n",
        "knn"
      ]
    },
    {
      "cell_type": "markdown",
      "metadata": {
        "id": "JvkdoXUpTYmA"
      },
      "source": [
        "Uji model dengan data test"
      ]
    },
    {
      "cell_type": "code",
      "execution_count": 136,
      "metadata": {
        "colab": {
          "base_uri": "https://localhost:8080/"
        },
        "id": "jcmAu9Y2TcME",
        "outputId": "432c128c-3a16-46c8-8467-fa48bf6e40fc"
      },
      "outputs": [
        {
          "data": {
            "text/plain": [
              "array(['virginica', 'versicolor', 'setosa', 'virginica', 'setosa',\n",
              "       'virginica', 'setosa', 'versicolor', 'versicolor', 'versicolor',\n",
              "       'virginica', 'versicolor', 'versicolor', 'versicolor',\n",
              "       'versicolor'], dtype=object)"
            ]
          },
          "execution_count": 136,
          "metadata": {},
          "output_type": "execute_result"
        }
      ],
      "source": [
        "knn.fit(scaled_X_train, Y_train).predict(scaled_X_test)"
      ]
    },
    {
      "cell_type": "markdown",
      "metadata": {
        "id": "jOGui9qYRxMv"
      },
      "source": [
        "Ukur akurasi dari model K-Nearest Neighbor"
      ]
    },
    {
      "cell_type": "code",
      "execution_count": 137,
      "metadata": {
        "colab": {
          "base_uri": "https://localhost:8080/"
        },
        "id": "lLMIOnTJS37y",
        "outputId": "74dcd0a0-8b6a-4e2a-fd50-9d0ace20b934"
      },
      "outputs": [
        {
          "name": "stdout",
          "output_type": "stream",
          "text": [
            "[[3 0 0]\n",
            " [0 8 0]\n",
            " [0 0 4]]\n",
            "Accuracy score:  1.0\n"
          ]
        }
      ],
      "source": [
        "print(confusion_matrix(Y_test,y_pred))\n",
        "print(\"Accuracy score: \",(accuracy_score(Y_test,y_pred)))"
      ]
    },
    {
      "cell_type": "markdown",
      "metadata": {
        "id": "NSHLmIIeT3jP"
      },
      "source": [
        "#Kesimpulan\n",
        "Dari 3 model klasifikasi di atas (Logistic Regression, Naive Bayes, K-Nearest Neighbor) model klasifikasi dengan akurasi tertinggi adalah..."
      ]
    },
    {
      "cell_type": "markdown",
      "metadata": {},
      "source": [
        "menggunakan model yang mana saja, hasil akurasinya sama."
      ]
    }
  ],
  "metadata": {
    "colab": {
      "collapsed_sections": [],
      "provenance": [],
      "toc_visible": true
    },
    "kernelspec": {
      "display_name": "base",
      "language": "python",
      "name": "python3"
    },
    "language_info": {
      "codemirror_mode": {
        "name": "ipython",
        "version": 3
      },
      "file_extension": ".py",
      "mimetype": "text/x-python",
      "name": "python",
      "nbconvert_exporter": "python",
      "pygments_lexer": "ipython3",
      "version": "3.9.12"
    }
  },
  "nbformat": 4,
  "nbformat_minor": 0
}
